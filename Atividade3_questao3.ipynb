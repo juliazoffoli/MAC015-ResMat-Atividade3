{
  "nbformat": 4,
  "nbformat_minor": 0,
  "metadata": {
    "colab": {
      "provenance": [],
      "collapsed_sections": [
        "shygouRdZ2wI"
      ]
    },
    "kernelspec": {
      "name": "python3",
      "display_name": "Python 3"
    },
    "language_info": {
      "name": "python"
    }
  },
  "cells": [
    {
      "cell_type": "markdown",
      "source": [
        "#Código geral"
      ],
      "metadata": {
        "id": "Q0tAR6lUZ22p"
      }
    },
    {
      "cell_type": "code",
      "source": [
        "import math\n",
        "\n",
        "# Módulos de elasticidade dos materiais\n",
        "MODULOS_ELASTICIDADE = {\n",
        "  1: {\"nome\": \"aluminio\", \"G\": 27e9},\n",
        "  2: {\"nome\": \"latao\", \"G\": 39e9},\n",
        "  3: {\"nome\": \"aco\", \"G\": 77e9},\n",
        "  4: {\"nome\": \"cobre\", \"G\": 45e9},\n",
        "}\n",
        "\n",
        "def calcular_j(diametro_externo, diametro_interno):\n",
        "  \"\"\"\n",
        "  Calcula o momento de inércia polar (J) para um segmento do eixo.\n",
        "  \"\"\"\n",
        "  raio_externo = diametro_externo / 2\n",
        "  raio_interno = diametro_interno / 2\n",
        "\n",
        "  if diametro_interno == 0:  # Segmento não é vazado\n",
        "      J = (math.pi / 2) * (raio_externo ** 4)\n",
        "  else:  # Segmento vazado\n",
        "      J = (math.pi / 2) * ((raio_externo ** 4) - (raio_interno ** 4))\n",
        "  return J\n",
        "\n",
        "def calcular_tensao_cisalhamento_maxima(torque, diametro_externo, diametro_interno):\n",
        "  \"\"\"\n",
        "  Calcula a tensão de cisalhamento máxima em um eixo.\n",
        "  \"\"\"\n",
        "  J = calcular_j(diametro_externo, diametro_interno)\n",
        "  raio = diametro_externo / 2\n",
        "  tensao_maxima = (torque * raio) / J\n",
        "  return (tensao_maxima / 1e6)  # Retornando em MPa\n",
        "\n",
        "def calcular_angulo_torcao(segmento):\n",
        "  \"\"\"\n",
        "  Calcula o ângulo de torção para o segmento.\n",
        "  \"\"\"\n",
        "  G = segmento[\"G\"]\n",
        "  J = calcular_j(segmento[\"diametro_externo\"], segmento[\"diametro_interno\"])\n",
        "  T = segmento[\"torque\"]\n",
        "  L = segmento[\"comprimento\"]\n",
        "  theta = (T * L) / (G * J)\n",
        "  return theta"
      ],
      "metadata": {
        "id": "FI6FeOSbz0SM"
      },
      "execution_count": null,
      "outputs": []
    },
    {
      "cell_type": "markdown",
      "source": [
        "#Menu Interativo"
      ],
      "metadata": {
        "id": "shygouRdZ2wI"
      }
    },
    {
      "cell_type": "code",
      "source": [
        "def main_interativo():\n",
        "  \"\"\"\n",
        "  Para que haja a inserção de dados pelo usuário.\n",
        "  \"\"\"\n",
        "  # Opções de materiais\n",
        "  print(\"Opções de materiais:\")\n",
        "  print(\"1 - Aluminio\")\n",
        "  print(\"2 - Latao\")\n",
        "  print(\"3 - Aço\")\n",
        "  print(\"4 - Cobre\")\n",
        "\n",
        "\n",
        "  num_segmentos = int(input(\"\\nQuantos segmentos o eixo possui? \"))\n",
        "  segmentos = []\n",
        "\n",
        "  for i in range(num_segmentos):\n",
        "      print(f\"\\nSegmento {i + 1}:\")\n",
        "      material = int(input(\"Escolha o material (1-aluminio, 2-latao, 3-aco 4-cobre): \"))\n",
        "\n",
        "      while material not in MODULOS_ELASTICIDADE: # Para que só haja a inserção dos materias especíificados\n",
        "          print(\"Opção inválida. Escolha um número entre 1 e 4.\")\n",
        "          material = int(input(\"Escolha o material (1-aluminio, 2-latao, 3-aco, 4-cobre): \"))\n",
        "\n",
        "      comprimento = float(input(\"Comprimento (m): \"))\n",
        "\n",
        "      diametro_externo = float(input(\"Diâmetro externo (m): \"))\n",
        "\n",
        "      diametro_interno = float(input(\"Diâmetro interno (m, 0 se for cheio): \"))\n",
        "\n",
        "      while diametro_interno >= diametro_externo:\n",
        "          print(\"O diâmetro interno deve ser menor que o diâmetro externo.\")\n",
        "          diametro_interno = float(input(\"Diâmetro interno (m, 0 se for cheio): \"))\n",
        "\n",
        "      torque = float(input(\"Torque aplicado (N·m): \"))\n",
        "\n",
        "      segmento = {  # Conjunto com os dados inseridos\n",
        "          \"material\": MODULOS_ELASTICIDADE[material][\"nome\"],\n",
        "          \"G\": MODULOS_ELASTICIDADE[material][\"G\"],\n",
        "          \"comprimento\": comprimento,\n",
        "          \"diametro_externo\": diametro_externo,\n",
        "          \"diametro_interno\": diametro_interno,\n",
        "          \"torque\": torque\n",
        "      }\n",
        "      segmentos.append(segmento)\n",
        "\n",
        "  # Cálculos para cada segmento chamando as funções\n",
        "  for i, segmento in enumerate(segmentos):\n",
        "      tensao_maxima = calcular_tensao_cisalhamento_maxima(segmento[\"torque\"], segmento[\"diametro_externo\"], segmento[\"diametro_interno\"])\n",
        "      angulo_torcao = calcular_angulo_torcao(segmento)\n",
        "      print(f\"\\nSegmento {i + 1} ({segmento['material']}):\")\n",
        "      print(f\"  Tensão de cisalhamento máxima: {tensao_maxima:.2f} MPa ({tensao_maxima * 1e6:.2f} Pa)\")\n",
        "      print(f\"  Ângulo de torção: {angulo_torcao:.6f} radianos\")\n",
        "\n",
        "  # Cálculo do ângulo de torção total do eixo\n",
        "  angulo_total_rad = sum(calcular_angulo_torcao(seg) for seg in segmentos)\n",
        "  angulo_total_deg = angulo_total_rad * (180 / math.pi)\n",
        "\n",
        "  print(f\"\\nÂngulo de torção total do eixo: {angulo_total_rad:.6f} radianos ({angulo_total_deg:.2f}°)\")\n",
        "\n",
        "\n",
        "if __name__ == \"__main__\":\n",
        "  main_interativo()"
      ],
      "metadata": {
        "id": "HwpF6u2n0k3T"
      },
      "execution_count": null,
      "outputs": []
    },
    {
      "cell_type": "markdown",
      "source": [
        "#Exemplo 1"
      ],
      "metadata": {
        "id": "Vb5CHxFGZ3c7"
      }
    },
    {
      "cell_type": "code",
      "source": [
        "def main_teste():\n",
        "    \"\"\"\n",
        "    Função de teste para o exemplo fornecido no enunciado.\n",
        "    \"\"\"\n",
        "    segmentos = [\n",
        "        {\n",
        "            \"material\": \"alumínio\",\n",
        "            \"G\": 27e9,\n",
        "            \"comprimento\": 0.4,\n",
        "            \"diametro_externo\": 0.06,\n",
        "            \"diametro_interno\": 0,\n",
        "            \"torque\": 800\n",
        "        },\n",
        "        {\n",
        "            \"material\": \"latão (cheio)\",\n",
        "            \"G\": 39e9,\n",
        "            \"comprimento\": 0.375,\n",
        "            \"diametro_externo\": 0.06,\n",
        "            \"diametro_interno\": 0,\n",
        "            \"torque\": 1600\n",
        "        },\n",
        "        {\n",
        "            \"material\": \"latão (vazado)\",\n",
        "            \"G\": 39e9,\n",
        "            \"comprimento\": 0.25,\n",
        "            \"diametro_externo\": 0.06,\n",
        "            \"diametro_interno\": 0.04,\n",
        "            \"torque\": 1600\n",
        "        }\n",
        "    ]\n",
        "\n",
        "    for i, segmento in enumerate(segmentos):\n",
        "        tensao_maxima = calcular_tensao_cisalhamento_maxima(segmento[\"torque\"], segmento[\"diametro_externo\"], segmento[\"diametro_interno\"])\n",
        "        angulo_torcao_rad = calcular_angulo_torcao(segmento)\n",
        "        angulo_torcao_deg = angulo_torcao_rad * (180 / math.pi)\n",
        "        print(f\"Segmento {i + 1} ({segmento['material']}):\")\n",
        "        print(f\"  Tensão de cisalhamento máxima: {tensao_maxima:.2f} MPa\")\n",
        "        print(f\"  Ângulo de torção: {angulo_torcao_deg:.5f}°\")\n",
        "\n",
        "    angulo_total_rad = sum(calcular_angulo_torcao(seg) for seg in segmentos)\n",
        "    angulo_total_deg = angulo_total_rad * (180 / math.pi)\n",
        "\n",
        "    print(f\"\\nÂngulo de torção total do eixo: {angulo_total_deg:.5f}°\")\n",
        "\n",
        "if __name__ == \"__main__\":\n",
        "    main_teste()"
      ],
      "metadata": {
        "colab": {
          "base_uri": "https://localhost:8080/"
        },
        "id": "J6cCHuAX95n6",
        "outputId": "80f4693f-8cd0-4122-a96c-998af63a5a0f"
      },
      "execution_count": null,
      "outputs": [
        {
          "output_type": "stream",
          "name": "stdout",
          "text": [
            "Segmento 1 (alumínio):\n",
            "  Tensão de cisalhamento máxima: 18.86 MPa\n",
            "  Ângulo de torção: 0.53371°\n",
            "Segmento 2 (latão (cheio)):\n",
            "  Tensão de cisalhamento máxima: 37.73 MPa\n",
            "  Ângulo de torção: 0.69279°\n",
            "Segmento 3 (latão (vazado)):\n",
            "  Tensão de cisalhamento máxima: 47.01 MPa\n",
            "  Ângulo de torção: 0.57555°\n",
            "\n",
            "Ângulo de torção total do eixo: 1.80205°\n"
          ]
        }
      ]
    },
    {
      "cell_type": "markdown",
      "source": [
        "#Exemplo 2"
      ],
      "metadata": {
        "id": "XW2nuf20Z-tU"
      }
    },
    {
      "cell_type": "code",
      "source": [
        "def main_teste():\n",
        "  \"\"\"\n",
        "  Função de teste para o exemplo fornecido no enunciado.\n",
        "  \"\"\"\n",
        "  segmentos = [\n",
        "      {\n",
        "          \"material\": \"aço (AB)\",\n",
        "          \"G\": 77e9,\n",
        "          \"comprimento\": 0.4,\n",
        "          \"diametro_externo\": 0.030,\n",
        "          \"diametro_interno\": 0,\n",
        "          \"torque\": 250\n",
        "      },\n",
        "      {\n",
        "          \"material\": \"aço (BC)\",\n",
        "          \"G\": 77e9,\n",
        "          \"comprimento\": 0.2,\n",
        "          \"diametro_externo\": 0.060,\n",
        "          \"diametro_interno\": 0,\n",
        "          \"torque\": 2250\n",
        "      },\n",
        "      {\n",
        "          \"material\": \"aço (CD)\",\n",
        "          \"G\": 77e9,\n",
        "          \"comprimento\": 0.6,\n",
        "          \"diametro_externo\": 0.060,\n",
        "          \"diametro_interno\": 0.044,\n",
        "          \"torque\": 2250\n",
        "      }\n",
        "  ]\n",
        "\n",
        "  for i, segmento in enumerate(segmentos):\n",
        "      tensao_maxima = calcular_tensao_cisalhamento_maxima(segmento[\"torque\"], segmento[\"diametro_externo\"], segmento[\"diametro_interno\"])\n",
        "      angulo_torcao_rad = calcular_angulo_torcao(segmento)\n",
        "      angulo_torcao_deg = angulo_torcao_rad * (180 / math.pi)\n",
        "      print(f\"Segmento {i + 1} ({segmento['material']}):\")\n",
        "      print(f\"  Tensão de cisalhamento máxima: {tensao_maxima:.2f} MPa\")\n",
        "      print(f\"  Ângulo de torção: {angulo_torcao_deg:.5f}°\")\n",
        "\n",
        "  angulo_total_rad = sum(calcular_angulo_torcao(seg) for seg in segmentos)\n",
        "  angulo_total_deg = angulo_total_rad * (180 / math.pi)\n",
        "\n",
        "  print(f\"\\nÂngulo de torção total do eixo: {angulo_total_deg:.5f}°\")\n",
        "\n",
        "if __name__ == \"__main__\":\n",
        "  main_teste()"
      ],
      "metadata": {
        "colab": {
          "base_uri": "https://localhost:8080/"
        },
        "id": "uk7ljqOpVJFE",
        "outputId": "5d0e27d0-7966-427b-eb2c-218f4e80f6f6"
      },
      "execution_count": null,
      "outputs": [
        {
          "output_type": "stream",
          "name": "stdout",
          "text": [
            "Segmento 1 (aço (AB)):\n",
            "  Tensão de cisalhamento máxima: 47.16 Pa\n",
            "  Ângulo de torção: 0.93572°\n",
            "Segmento 2 (aço (BC)):\n",
            "  Tensão de cisalhamento máxima: 53.05 Pa\n",
            "  Ângulo de torção: 0.26317°\n",
            "Segmento 3 (aço (CD)):\n",
            "  Tensão de cisalhamento máxima: 74.64 Pa\n",
            "  Ângulo de torção: 1.11075°\n",
            "\n",
            "Ângulo de torção total do eixo: 2.30964°\n"
          ]
        }
      ]
    }
  ]
}